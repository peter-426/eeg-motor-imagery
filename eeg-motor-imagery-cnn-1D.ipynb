{
 "cells": [
  {
   "cell_type": "markdown",
   "metadata": {},
   "source": [
    "## EEG data of simple and compound limb motor imagery\n",
    "There are ten files from ten subjects stored in three zip files: data1, data2 and data3.<br>\n",
    "Each file contains EEG 'data' (Channel*Time*Trial) and labels.<br>\n",
    "Data is from 64 channels. 560 trials, i.e. 560 =  80 x 7 classes each.<br>\n",
    "So, eeg.shape == (64,1600,560).<br>\n",
    "The data were band-pass filtered between 0.1 and 50Hz. <br>\n",
    "Each EEG waveform is 8s long (1600 time points), <br>\n",
    "sampling rate is 200Hz. There are 560 labels,  1-7 indicate <br>\n",
    "left hand, right hand, both hands, feet, left hand combined with right foot, right hand <br>\n",
    "combined with left foot and resting state respectively.<br>\n",
    "\n",
    "https://dataverse.harvard.edu/dataset.xhtml?persistentId=doi:10.7910/DVN/27306 <br>\n",
    "\n",
    "\n",
    "Change the accelerator from ```None``` to ```GPU```?"
   ]
  },
  {
   "cell_type": "code",
   "execution_count": 8,
   "metadata": {},
   "outputs": [
    {
     "name": "stdout",
     "output_type": "stream",
     "text": [
      "2.8.0\n"
     ]
    }
   ],
   "source": [
    "# author: peter-426\n",
    "\n",
    "import tensorflow as tf\n",
    "import seaborn as sns\n",
    "import numpy as np\n",
    "import pandas as pd\n",
    "import matplotlib.pyplot as plt\n",
    "import matplotlib.image as mpimg\n",
    "\n",
    "import random\n",
    "from scipy import signal\n",
    "import scipy.io\n",
    "\n",
    "print(tf.__version__)"
   ]
  },
  {
   "cell_type": "markdown",
   "metadata": {},
   "source": [
    "# Data Preprocessing"
   ]
  },
  {
   "cell_type": "code",
   "execution_count": 9,
   "metadata": {},
   "outputs": [],
   "source": [
    "# load EEG data, more is better (sometimes)\n",
    "mat1 = scipy.io.loadmat('data-motor-imagery/cl.mat')  \n",
    "# mat2 = scipy.io.loadmat('data-motor-imagery/cyy.mat')  \n",
    "# mat3 = scipy.io.loadmat('data-motor-imagery/kyf.mat')  \n",
    "# mat4 = scipy.io.loadmat('data-motor-imagery/lnn.mat')\n",
    "# mat5 = scipy.io.loadmat('data-motor-imagery/ls.mat') \n",
    "# mat6 = scipy.io.loadmat('data-motor-imagery/ry.mat') \n",
    "# mat7 = scipy.io.loadmat('data-motor-imagery/wcf.mat')"
   ]
  },
  {
   "cell_type": "code",
   "execution_count": 10,
   "metadata": {},
   "outputs": [
    {
     "data": {
      "text/plain": [
       "dict_keys(['__header__', '__version__', '__globals__', 'data', 'label'])"
      ]
     },
     "execution_count": 10,
     "metadata": {},
     "output_type": "execute_result"
    }
   ],
   "source": [
    "mat1.keys()"
   ]
  },
  {
   "cell_type": "code",
   "execution_count": 11,
   "metadata": {},
   "outputs": [],
   "source": [
    "# header = mat['__header__']\n",
    "# print(header)\n",
    "# globals = mat['__globals__']\n",
    "# print(globals)"
   ]
  },
  {
   "cell_type": "code",
   "execution_count": 12,
   "metadata": {},
   "outputs": [],
   "source": [
    "# for key, val in mat.items():\n",
    "#     print(key, val)"
   ]
  },
  {
   "cell_type": "code",
   "execution_count": 13,
   "metadata": {},
   "outputs": [],
   "source": [
    "eeg_array1   = mat1['data']\n",
    "label_array1 = mat1['label']\n",
    "\n",
    "# eeg_array2   = mat2['data']\n",
    "# label_array2 = mat2['label']\n",
    "\n",
    "# eeg_array3   = mat3['data']\n",
    "# label_array3 = mat3['label']\n",
    "\n",
    "# eeg_array4   = mat4['data']\n",
    "# label_array4 = mat4['label']\n",
    "\n",
    "# eeg_array5   = mat5['data']\n",
    "# label_array5 = mat5['label']\n",
    "\n",
    "# eeg_array6   = mat6['data']\n",
    "# label_array6 = mat6['label']\n",
    "\n",
    "# eeg_array7   = mat7['data']\n",
    "# label_array7 = mat7['label']"
   ]
  },
  {
   "cell_type": "code",
   "execution_count": 14,
   "metadata": {},
   "outputs": [
    {
     "name": "stdout",
     "output_type": "stream",
     "text": [
      "(64, 1600, 560)\n"
     ]
    }
   ],
   "source": [
    "print(eeg_array1.shape)"
   ]
  },
  {
   "cell_type": "code",
   "execution_count": 15,
   "metadata": {},
   "outputs": [],
   "source": [
    "commands = {1:'left hand', 2:'right hand', 3:'both hands', 4:'feet', \n",
    "5:'left hand combined with right foot', 6:'right hand combined with left foot', 7:'resting state'}\n",
    "\n",
    "if 1==0:\n",
    "    plt.figure(figsize=(10,8))\n",
    "    for ii in range(0,9):\n",
    "        plt.subplot(3,3,ii+1)\n",
    "        plt.plot(eeg_array1[0,:,ii])\n",
    "        cmd = commands[label_array[ii,0]]\n",
    "        plt.title(cmd)\n",
    "    plt.tight_layout(pad=2.0)"
   ]
  },
  {
   "cell_type": "code",
   "execution_count": 17,
   "metadata": {},
   "outputs": [
    {
     "name": "stdout",
     "output_type": "stream",
     "text": [
      "1600 196\n"
     ]
    }
   ],
   "source": [
    "sr=200      # Fs sampling rate\n",
    "WinLength=32\n",
    "step=8\n",
    "\n",
    "chan=6\n",
    "trial_num=10\n",
    "eeg = eeg_array1[chan,:,trial_num]\n",
    "\n",
    "nsteps = int(np.floor ( (eeg.size - WinLength)/step) )\n",
    "print(eeg.size, nsteps)"
   ]
  },
  {
   "cell_type": "code",
   "execution_count": 18,
   "metadata": {},
   "outputs": [],
   "source": [
    "if 1==0:\n",
    "    plt.figure(figsize=(10,8))\n",
    "    for ii in range(0,9):\n",
    "        plt.subplot(3,3,ii+1)\n",
    "        eeg=eeg_array[5,:,ii]\n",
    "\n",
    "        f, Pxx_den = signal.periodogram(eeg, sr)\n",
    "        low_freq=1*8  # length of f is 801, 8 * 100 ~ 800. \n",
    "        high_freq=30*8\n",
    "        plt.plot(f[low_freq:high_freq], Pxx_den[low_freq:high_freq])\n",
    "\n",
    "        cmd = commands[label_array[ii,0]]\n",
    "        plt.title(cmd)\n",
    "        if ii+1 in [7,8,9]:\n",
    "            plt.xlabel('frequency [Hz]')\n",
    "        if ii+1 in [1,4,7]:\n",
    "            plt.ylabel('PSD [V**2/Hz]')\n",
    "\n",
    "    plt.tight_layout(pad=2.0)"
   ]
  },
  {
   "cell_type": "code",
   "execution_count": 19,
   "metadata": {},
   "outputs": [],
   "source": [
    "x_train=[]\n",
    "y_train=[]\n",
    "\n",
    "x_test=[]\n",
    "y_test=[]\n",
    "\n",
    "not_number_count=0\n",
    "number_count=np.zeros(11)\n",
    "    \n",
    "do_periodogram=False\n",
    "\n",
    "def make_data(label_array, eeg_array):\n",
    "    \n",
    "    num_rows=len(label_array)\n",
    "    \n",
    "    for ii in range(0,num_rows):\n",
    "\n",
    "        class_idx = label_array[ii,0] - 1 # 7 classes were labelled 1-7, so -1.\n",
    "\n",
    "        if class_idx < 0:\n",
    "            not_number_count += 1\n",
    "            continue\n",
    "            \n",
    "        number_count[int(class_idx)] += 1\n",
    "\n",
    "        eeg = eeg_array[chan,:,ii]\n",
    "        \n",
    "        if do_periodogram:\n",
    "            f, eeg = signal.periodogram(eeg, sr)\n",
    "            low_freq=3*8     # length of f is 801, 8 * 100 =800\n",
    "            high_freq=30*8\n",
    "            eeg = eeg[low_freq:high_freq]\n",
    "  \n",
    "        eeg = eeg.reshape(-1,1)\n",
    "        \n",
    "        if random.random() < 0.90:\n",
    "            x_train.append(eeg)\n",
    "            y_train.append(class_idx)  \n",
    "        else:\n",
    "            x_test.append(eeg)\n",
    "            y_test.append(class_idx)  \n",
    "            \n",
    "    return eeg\n",
    "\n",
    "eeg=make_data(label_array1, eeg_array1);\n",
    "# make_data(label_array2, eeg_array2)   # appends to previous set, eeg for shape       \n",
    "# make_data(label_array3, eeg_array3)    \n",
    "# make_data(label_array4, eeg_array4) \n",
    "# make_data(label_array5, eeg_array5); \n",
    "# make_data(label_array6, eeg_array6) \n",
    "# make_data(label_array7, eeg_array7) "
   ]
  },
  {
   "cell_type": "code",
   "execution_count": 21,
   "metadata": {},
   "outputs": [],
   "source": [
    "x_train = np.array(x_train)\n",
    "y_train = np.array(y_train)\n",
    "\n",
    "x_test = np.array(x_test)\n",
    "y_test = np.array(y_test)"
   ]
  },
  {
   "cell_type": "code",
   "execution_count": 22,
   "metadata": {},
   "outputs": [
    {
     "data": {
      "text/plain": [
       "<AxesSubplot:ylabel='count'>"
      ]
     },
     "execution_count": 22,
     "metadata": {},
     "output_type": "execute_result"
    },
    {
     "data": {
      "image/png": "[encoded data removed]",
      "text/plain": [
       "<Figure size 432x288 with 1 Axes>"
      ]
     },
     "metadata": {
      "needs_background": "light"
     },
     "output_type": "display_data"
    }
   ],
   "source": [
    "sns.countplot(x=y_train)"
   ]
  },
  {
   "cell_type": "markdown",
   "metadata": {},
   "source": [
    "If similar counts for each digit, no need to downsample or upweigh."
   ]
  },
  {
   "cell_type": "markdown",
   "metadata": {},
   "source": [
    "## Check for NaN Values"
   ]
  },
  {
   "cell_type": "code",
   "execution_count": 23,
   "metadata": {
    "collapsed": true
   },
   "outputs": [
    {
     "name": "stdout",
     "output_type": "stream",
     "text": [
      "False\n",
      "False\n"
     ]
    }
   ],
   "source": [
    "print(np.isnan(x_train).any())\n",
    "print(np.isnan(x_test).any())"
   ]
  },
  {
   "cell_type": "code",
   "execution_count": 24,
   "metadata": {
    "collapsed": true
   },
   "outputs": [
    {
     "name": "stdout",
     "output_type": "stream",
     "text": [
      "(504, 1600, 1)\n",
      "(56, 1600, 1)\n"
     ]
    }
   ],
   "source": [
    "print(x_train.shape)\n",
    "print(x_test.shape)"
   ]
  },
  {
   "cell_type": "code",
   "execution_count": 25,
   "metadata": {
    "collapsed": true
   },
   "outputs": [
    {
     "name": "stdout",
     "output_type": "stream",
     "text": [
      "(1600, 1)\n",
      "(504,)\n"
     ]
    }
   ],
   "source": [
    "input_shape=x_train[0].shape\n",
    "print(input_shape)\n",
    "output_shape=y_train.shape\n",
    "print(output_shape)"
   ]
  },
  {
   "cell_type": "markdown",
   "metadata": {},
   "source": [
    "## Label Encoding\n",
    "\n",
    "Convert categorical labels to one-hot encodings.\n",
    "\n",
    "E.g., ```2``` is ```[0,0,1,0,0,0,0,0,0,0]``` and ```7``` is ```[0,0,0,0,0,0,0,1,0,0]```."
   ]
  },
  {
   "cell_type": "markdown",
   "metadata": {},
   "source": [
    "# CNN"
   ]
  },
  {
   "cell_type": "markdown",
   "metadata": {},
   "source": [
    "## Define the Model"
   ]
  },
  {
   "cell_type": "code",
   "execution_count": 27,
   "metadata": {},
   "outputs": [],
   "source": [
    "batch_size = 64\n",
    "num_classes = 7\n",
    "epochs = 30"
   ]
  },
  {
   "cell_type": "markdown",
   "metadata": {},
   "source": [
    "The MaxPool1D filter aims to conserve the main features of the image while reducing the size.\n",
    "\n",
    "Dropout layers: a percent of random nodes are ignored.\n",
    "\n",
    "```relu``` returns input value if the input value >= 0, else it returns 0.\n",
    "\n",
    "Flatten converts the tensors into a 1D vector.\n",
    "\n",
    "The Dense layers are an ANN. Last layer outputs the probability that an EEG signal is in each class.\n",
    "\n",
    "These models aims to categorize EEG signals, so it uses ```categorical_crossentropy``` loss function. "
   ]
  },
  {
   "cell_type": "code",
   "execution_count": 34,
   "metadata": {},
   "outputs": [],
   "source": [
    "model = tf.keras.models.Sequential([\n",
    "    tf.keras.layers.Conv1D(32, 25, padding='same', activation='relu', input_shape=eeg.shape),\n",
    "    tf.keras.layers.Conv1D(32, 25, padding='same', activation='relu'),\n",
    "    tf.keras.layers.MaxPool1D(),\n",
    "    tf.keras.layers.Dropout(0.25),\n",
    "    tf.keras.layers.Conv1D(64, 9, padding='same', activation='relu'),\n",
    "    tf.keras.layers.Conv1D(64, 9, padding='same', activation='relu'),\n",
    "    tf.keras.layers.MaxPool1D(), #strides=(2)),\n",
    "    tf.keras.layers.Dropout(0.25),\n",
    "    tf.keras.layers.Flatten(),\n",
    "    tf.keras.layers.Dense(128, activation='relu'),\n",
    "    tf.keras.layers.Dropout(0.50),\n",
    "    tf.keras.layers.Dense(num_classes, activation='softmax')\n",
    "])"
   ]
  },
  {
   "cell_type": "code",
   "execution_count": 35,
   "metadata": {},
   "outputs": [],
   "source": [
    "model.compile(optimizer=tf.keras.optimizers.RMSprop(epsilon=1e-08), loss='categorical_crossentropy', metrics=['acc'])"
   ]
  },
  {
   "cell_type": "markdown",
   "metadata": {},
   "source": [
    "## Fit the Training Data\n",
    "\n",
    "Stop train after n epochs or when training accuracy > threshold.\n",
    "\n",
    "Next cell defines a CallBack. If xx.x% accuracy is achieved, the model stops training. "
   ]
  },
  {
   "cell_type": "code",
   "execution_count": 36,
   "metadata": {
    "collapsed": true
   },
   "outputs": [
    {
     "name": "stdout",
     "output_type": "stream",
     "text": [
      "2/2 [==============================] - 0s 18ms/step - loss: 7.7363 - acc: 0.1607\n"
     ]
    }
   ],
   "source": [
    "test_loss, test_acc = model.evaluate(x_test, y_test)"
   ]
  },
  {
   "cell_type": "code",
   "execution_count": 37,
   "metadata": {},
   "outputs": [],
   "source": [
    "class myCallback(tf.keras.callbacks.Callback):\n",
    "  def on_epoch_end(self, epoch, logs={}):\n",
    "    if(logs.get('acc')> 0.95): #0.995):\n",
    "      print(\"\\nReached xx% accuracy so cancelling training!\")\n",
    "      self.model.stop_training = True\n",
    "\n",
    "callbacks = myCallback()"
   ]
  },
  {
   "cell_type": "code",
   "execution_count": 38,
   "metadata": {
    "collapsed": true
   },
   "outputs": [
    {
     "name": "stdout",
     "output_type": "stream",
     "text": [
      "Epoch 1/30\n",
      "8/8 [==============================] - 3s 271ms/step - loss: 26.6865 - acc: 0.1448 - val_loss: 1.9450 - val_acc: 0.1071\n",
      "Epoch 2/30\n",
      "8/8 [==============================] - 2s 262ms/step - loss: 1.9560 - acc: 0.1429 - val_loss: 1.9478 - val_acc: 0.0893\n",
      "Epoch 3/30\n",
      "8/8 [==============================] - 2s 308ms/step - loss: 1.9359 - acc: 0.1488 - val_loss: 1.9415 - val_acc: 0.1607\n",
      "Epoch 4/30\n",
      "8/8 [==============================] - 2s 258ms/step - loss: 1.9584 - acc: 0.1925 - val_loss: 1.9348 - val_acc: 0.2143\n",
      "Epoch 5/30\n",
      "8/8 [==============================] - 2s 260ms/step - loss: 1.9189 - acc: 0.1905 - val_loss: 1.9417 - val_acc: 0.1429\n",
      "Epoch 6/30\n",
      "8/8 [==============================] - 2s 260ms/step - loss: 1.8690 - acc: 0.2361 - val_loss: 1.9389 - val_acc: 0.2679\n",
      "Epoch 7/30\n",
      "8/8 [==============================] - 2s 275ms/step - loss: 1.8640 - acc: 0.2837 - val_loss: 1.9476 - val_acc: 0.2143\n",
      "Epoch 8/30\n",
      "8/8 [==============================] - 2s 265ms/step - loss: 1.8995 - acc: 0.2163 - val_loss: 1.8968 - val_acc: 0.2143\n",
      "Epoch 9/30\n",
      "8/8 [==============================] - 2s 282ms/step - loss: 1.8125 - acc: 0.2956 - val_loss: 2.0031 - val_acc: 0.3036\n",
      "Epoch 10/30\n",
      "8/8 [==============================] - 2s 262ms/step - loss: 3.0483 - acc: 0.2798 - val_loss: 1.9445 - val_acc: 0.1786\n",
      "Epoch 11/30\n",
      "8/8 [==============================] - 2s 267ms/step - loss: 1.9435 - acc: 0.2163 - val_loss: 1.9457 - val_acc: 0.2500\n",
      "Epoch 12/30\n",
      "8/8 [==============================] - 2s 277ms/step - loss: 1.7707 - acc: 0.3036 - val_loss: 2.0404 - val_acc: 0.1607\n",
      "Epoch 13/30\n",
      "8/8 [==============================] - 2s 287ms/step - loss: 1.5974 - acc: 0.4206 - val_loss: 2.1673 - val_acc: 0.2321\n",
      "Epoch 14/30\n",
      "8/8 [==============================] - 2s 295ms/step - loss: 1.4386 - acc: 0.4623 - val_loss: 2.0945 - val_acc: 0.1964\n",
      "Epoch 15/30\n",
      "8/8 [==============================] - 2s 267ms/step - loss: 1.3779 - acc: 0.4980 - val_loss: 2.1249 - val_acc: 0.1607\n",
      "Epoch 16/30\n",
      "8/8 [==============================] - 2s 281ms/step - loss: 1.1333 - acc: 0.6052 - val_loss: 2.4148 - val_acc: 0.1786\n",
      "Epoch 17/30\n",
      "8/8 [==============================] - 2s 269ms/step - loss: 0.9669 - acc: 0.6429 - val_loss: 2.3962 - val_acc: 0.1429\n",
      "Epoch 18/30\n",
      "8/8 [==============================] - 2s 268ms/step - loss: 0.8593 - acc: 0.7183 - val_loss: 3.1479 - val_acc: 0.1786\n",
      "Epoch 19/30\n",
      "8/8 [==============================] - 2s 261ms/step - loss: 0.9198 - acc: 0.6786 - val_loss: 2.7868 - val_acc: 0.1607\n",
      "Epoch 20/30\n",
      "8/8 [==============================] - 2s 277ms/step - loss: 0.4990 - acc: 0.8433 - val_loss: 3.1782 - val_acc: 0.1786\n",
      "Epoch 21/30\n",
      "8/8 [==============================] - 2s 273ms/step - loss: 0.4865 - acc: 0.8294 - val_loss: 3.7064 - val_acc: 0.1607\n",
      "Epoch 22/30\n",
      "8/8 [==============================] - 2s 272ms/step - loss: 0.4177 - acc: 0.8512 - val_loss: 2.9418 - val_acc: 0.1786\n",
      "Epoch 23/30\n",
      "8/8 [==============================] - 2s 260ms/step - loss: 0.3588 - acc: 0.8968 - val_loss: 3.2897 - val_acc: 0.2679\n",
      "Epoch 24/30\n",
      "8/8 [==============================] - 2s 259ms/step - loss: 0.2528 - acc: 0.9087 - val_loss: 4.2300 - val_acc: 0.2321\n",
      "Epoch 25/30\n",
      "8/8 [==============================] - 2s 284ms/step - loss: 0.2601 - acc: 0.9187 - val_loss: 7.4165 - val_acc: 0.1429\n",
      "Epoch 26/30\n",
      "8/8 [==============================] - 2s 273ms/step - loss: 0.3419 - acc: 0.8889 - val_loss: 3.6384 - val_acc: 0.2143\n",
      "Epoch 27/30\n",
      "8/8 [==============================] - 2s 272ms/step - loss: 0.1744 - acc: 0.9464 - val_loss: 5.3108 - val_acc: 0.1429\n",
      "Epoch 28/30\n",
      "8/8 [==============================] - 2s 289ms/step - loss: 0.1953 - acc: 0.9246 - val_loss: 4.2705 - val_acc: 0.2143\n",
      "Epoch 29/30\n",
      "8/8 [==============================] - 2s 281ms/step - loss: 0.2267 - acc: 0.9385 - val_loss: 6.3059 - val_acc: 0.1964\n",
      "Epoch 30/30\n",
      "8/8 [==============================] - ETA: 0s - loss: 0.2031 - acc: 0.9563\n",
      "Reached xx% accuracy so cancelling training!\n",
      "8/8 [==============================] - 2s 274ms/step - loss: 0.2031 - acc: 0.9563 - val_loss: 4.7824 - val_acc: 0.2679\n"
     ]
    }
   ],
   "source": [
    "history = model.fit(x_train, y_train,\n",
    "                    batch_size=batch_size,\n",
    "                    epochs=epochs,\n",
    "                    #validation_split=0.1,\n",
    "                    validation_data=(x_test, y_test),\n",
    "                    callbacks=[callbacks])"
   ]
  },
  {
   "cell_type": "markdown",
   "metadata": {},
   "source": [
    "# 4. Evaluate the Model"
   ]
  },
  {
   "cell_type": "markdown",
   "metadata": {},
   "source": [
    "## Accuracy Curve"
   ]
  },
  {
   "cell_type": "code",
   "execution_count": 39,
   "metadata": {},
   "outputs": [
    {
     "data": {
      "image/png": "[encoded data removed]",
      "text/plain": [
       "<Figure size 432x288 with 1 Axes>"
      ]
     },
     "metadata": {
      "needs_background": "light"
     },
     "output_type": "display_data"
    }
   ],
   "source": [
    "fig, ax = plt.subplots(1,1)\n",
    "# ax[0].plot(history.history['loss'], color='b', label=\"Training Loss\")\n",
    "# ax[0].plot(history.history['val_loss'], color='r', label=\"Validation Loss\",axes =ax[0])\n",
    "# legend = ax[0].legend(loc='best', shadow=True)\n",
    "\n",
    "ax.plot(history.history['acc'], color='b', label=\"Training Accuracy\")\n",
    "ax.plot(history.history['val_acc'], color='r',label=\"Validation Accuracy\")\n",
    "legend = ax.legend(loc='best', shadow=True)"
   ]
  },
  {
   "cell_type": "markdown",
   "metadata": {},
   "source": [
    "## Predict Results"
   ]
  },
  {
   "cell_type": "code",
   "execution_count": 40,
   "metadata": {},
   "outputs": [
    {
     "name": "stdout",
     "output_type": "stream",
     "text": [
      "2/2 [==============================] - 0s 17ms/step - loss: 4.7824 - acc: 0.2679\n"
     ]
    }
   ],
   "source": [
    "test_loss, test_acc = model.evaluate(x_test, y_test)"
   ]
  },
  {
   "cell_type": "markdown",
   "metadata": {},
   "source": [
    "## Confusion Matrix"
   ]
  },
  {
   "cell_type": "code",
   "execution_count": 41,
   "metadata": {},
   "outputs": [],
   "source": [
    "# Predict the values from the test data.\n",
    "Y_pred = model.predict(x_test)\n",
    "# Convert predictions classes to one hot vectors \n",
    "Y_pred_classes = np.argmax(Y_pred,axis = 1) \n",
    "# Convert testing observations to one hot vectors\n",
    "Y_true = np.argmax(y_test,axis = 1)\n",
    "# compute the confusion matrix\n",
    "confusion_mtx = tf.math.confusion_matrix(Y_true, Y_pred_classes) "
   ]
  },
  {
   "cell_type": "code",
   "execution_count": 42,
   "metadata": {},
   "outputs": [
    {
     "data": {
      "text/plain": [
       "<AxesSubplot:>"
      ]
     },
     "execution_count": 42,
     "metadata": {},
     "output_type": "execute_result"
    },
    {
     "data": {
      "image/png": "[encoded data removed]",
      "text/plain": [
       "<Figure size 720x576 with 2 Axes>"
      ]
     },
     "metadata": {
      "needs_background": "light"
     },
     "output_type": "display_data"
    }
   ],
   "source": [
    "plt.figure(figsize=(10, 8))\n",
    "sns.heatmap(confusion_mtx, annot=True, fmt='g')"
   ]
  }
 ],
 "metadata": {
  "kernelspec": {
   "display_name": "Python 3 (ipykernel)",
   "language": "python",
   "name": "python3"
  },
  "language_info": {
   "codemirror_mode": {
    "name": "ipython",
    "version": 3
   },
   "file_extension": ".py",
   "mimetype": "text/x-python",
   "name": "python",
   "nbconvert_exporter": "python",
   "pygments_lexer": "ipython3",
   "version": "3.9.7"
  }
 },
 "nbformat": 4,
 "nbformat_minor": 4
}
