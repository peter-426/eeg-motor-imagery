{
 "cells": [
  {
   "cell_type": "markdown",
   "metadata": {},
   "source": [
    "## EEG data of simple and compound limb motor imagery\n",
    "There are ten files from ten subjects stored in three zip files: data1, data2 and data3.<br>\n",
    "Each file contains EEG 'data' (Channel*Time*Trial) and labels.<br>\n",
    "Data is from 64 channels. 560 trials, i.e. 560 =  80 x 7 classes each.<br>\n",
    "So, eeg.shape == (64,1600,560).<br>\n",
    "The data were band-pass filtered between 0.1 and 50Hz. <br>\n",
    "Each EEG waveform is 8s long (1600 time points), <br>\n",
    "sampling rate is 200Hz. There are 560 labels,  1-7 indicate <br>\n",
    "left hand, right hand, both hands, feet, left hand combined with right foot, right hand <br>\n",
    "combined with left foot and resting state respectively.<br>\n",
    "\n",
    "https://dataverse.harvard.edu/dataset.xhtml?persistentId=doi:10.7910/DVN/27306 <br>\n",
    "\n",
    "\n",
    "Change the accelerator from ```None``` to ```GPU```?"
   ]
  },
  {
   "cell_type": "code",
   "execution_count": 1,
   "metadata": {},
   "outputs": [],
   "source": [
    "#!pip install tensorflow\n",
    "#!pip install autosklearn"
   ]
  },
  {
   "cell_type": "code",
   "execution_count": 79,
   "metadata": {},
   "outputs": [],
   "source": [
    "# author: peter-426\n",
    "\n",
    "#import tensorflow as tf\n",
    "import seaborn as sns\n",
    "import numpy as np\n",
    "import pandas as pd\n",
    "import matplotlib.pyplot as plt\n",
    "import matplotlib.image as mpimg\n",
    "\n",
    "import random\n",
    "from scipy import signal\n",
    "import scipy.io\n",
    "\n",
    "#print(tf.__version__)\n",
    "\n",
    "import autosklearn.classification\n",
    "import sklearn.model_selection\n",
    "import sklearn.datasets\n",
    "import sklearn.metrics"
   ]
  },
  {
   "cell_type": "markdown",
   "metadata": {},
   "source": [
    "# Data Preprocessing"
   ]
  },
  {
   "cell_type": "code",
   "execution_count": 80,
   "metadata": {},
   "outputs": [],
   "source": [
    "# load EEG data, more is better (sometimes)\n",
    "mat1 = scipy.io.loadmat('data-motor-imagery/cl.mat')  \n",
    "# mat2 = scipy.io.loadmat('data-motor-imagery/cyy.mat')  \n",
    "# mat3 = scipy.io.loadmat('data-motor-imagery/kyf.mat')  \n",
    "# mat4 = scipy.io.loadmat('data-motor-imagery/lnn.mat')\n",
    "# mat5 = scipy.io.loadmat('data-motor-imagery/ls.mat') \n",
    "# mat6 = scipy.io.loadmat('data-motor-imagery/ry.mat') \n",
    "# mat7 = scipy.io.loadmat('data-motor-imagery/wcf.mat')"
   ]
  },
  {
   "cell_type": "code",
   "execution_count": 81,
   "metadata": {
    "collapsed": true
   },
   "outputs": [
    {
     "data": {
      "text/plain": [
       "dict_keys(['__header__', '__version__', '__globals__', 'data', 'label'])"
      ]
     },
     "execution_count": 81,
     "metadata": {},
     "output_type": "execute_result"
    }
   ],
   "source": [
    "mat1.keys()"
   ]
  },
  {
   "cell_type": "code",
   "execution_count": 82,
   "metadata": {},
   "outputs": [],
   "source": [
    "# header = mat['__header__']\n",
    "# print(header)\n",
    "# globals = mat['__globals__']\n",
    "# print(globals)"
   ]
  },
  {
   "cell_type": "code",
   "execution_count": 83,
   "metadata": {},
   "outputs": [],
   "source": [
    "# for key, val in mat.items():\n",
    "#     print(key, val)"
   ]
  },
  {
   "cell_type": "code",
   "execution_count": 84,
   "metadata": {},
   "outputs": [],
   "source": [
    "eeg_array1   = mat1['data']\n",
    "label_array1 = mat1['label']"
   ]
  },
  {
   "cell_type": "code",
   "execution_count": 85,
   "metadata": {
    "collapsed": true
   },
   "outputs": [
    {
     "name": "stdout",
     "output_type": "stream",
     "text": [
      "(64, 1600, 560)\n",
      "<class 'numpy.ndarray'>\n"
     ]
    }
   ],
   "source": [
    "print(eeg_array1.shape)\n",
    "print(type(eeg_array1))"
   ]
  },
  {
   "cell_type": "code",
   "execution_count": 86,
   "metadata": {},
   "outputs": [],
   "source": [
    "commands = {1:'left hand', 2:'right hand', 3:'both hands', 4:'feet', \n",
    "5:'left hand combined with right foot', 6:'right hand combined with left foot', 7:'resting state'}\n",
    "\n",
    "if 1==0:\n",
    "    plt.figure(figsize=(10,8))\n",
    "    for ii in range(0,9):\n",
    "        plt.subplot(3,3,ii+1)\n",
    "        plt.plot(eeg_array1[0,:,ii])\n",
    "        cmd = commands[label_array[ii,0]]\n",
    "        plt.title(cmd)\n",
    "    plt.tight_layout(pad=2.0)"
   ]
  },
  {
   "cell_type": "code",
   "execution_count": 87,
   "metadata": {},
   "outputs": [
    {
     "name": "stdout",
     "output_type": "stream",
     "text": [
      "1600 196\n"
     ]
    }
   ],
   "source": [
    "sr=200     # Fs\n",
    "WinLength=32\n",
    "step=8\n",
    "\n",
    "chan=6\n",
    "trial_num=10\n",
    "eeg = eeg_array1[chan,:,trial_num]\n",
    "\n",
    "nsteps = int(np.floor ( (eeg.size - WinLength)/step) )\n",
    "print(eeg.size, nsteps)"
   ]
  },
  {
   "cell_type": "code",
   "execution_count": 89,
   "metadata": {},
   "outputs": [],
   "source": [
    "# channel index, \"chan\", set above \n",
    "\n",
    "x_train=[]\n",
    "y_train=[]\n",
    "\n",
    "x_test=[]\n",
    "y_test=[]\n",
    "\n",
    "not_number_count=0\n",
    "number_count=np.zeros(11)\n",
    "\n",
    "def make_data(label_array, eeg_array):\n",
    "    \n",
    "    num_rows=len(label_array)\n",
    "    \n",
    "    for ii in range(0,num_rows):\n",
    "\n",
    "        class_idx = label_array[ii,0] - 1 # 7 classes were labelled 1-7, so -1.\n",
    "\n",
    "        if class_idx < 0:\n",
    "            not_number_count += 1\n",
    "            continue\n",
    "            \n",
    "        number_count[int(class_idx)] += 1\n",
    "        eeg = eeg_array[chan,:,ii]\n",
    "        eeg = eeg.reshape(-1,1)\n",
    "        \n",
    "        if random.random() < 0.90:\n",
    "            x_train.append(eeg)\n",
    "            y_train.append(class_idx)  \n",
    "        else:\n",
    "            x_test.append(eeg)\n",
    "            y_test.append(class_idx)  \n",
    "            \n",
    "    return eeg\n",
    "\n",
    "eeg=make_data(label_array1, eeg_array1)"
   ]
  },
  {
   "cell_type": "code",
   "execution_count": 90,
   "metadata": {
    "scrolled": true
   },
   "outputs": [
    {
     "name": "stdout",
     "output_type": "stream",
     "text": [
      "shape of eeg= (1600, 1)\n",
      "number of exampes in data set= 509\n",
      "training count = 509\n",
      "testing count = 51\n",
      "not number count= 0\n",
      "number count= [80. 80. 80. 80. 80. 80. 80.  0.  0.  0.  0.]\n"
     ]
    }
   ],
   "source": [
    "print(\"shape of eeg=\", eeg.shape)\n",
    "print(\"number of exampes in data set=\",len(x_train))\n",
    "print(\"training count =\", len(x_train))\n",
    "print(\"testing count =\", len(x_test))\n",
    "print(\"not number count=\", not_number_count)\n",
    "print(\"number count=\", number_count)"
   ]
  },
  {
   "cell_type": "code",
   "execution_count": 91,
   "metadata": {},
   "outputs": [],
   "source": [
    "x_train = np.array(x_train)\n",
    "y_train = np.array(y_train)\n",
    "\n",
    "x_test = np.array(x_test)\n",
    "y_test = np.array(y_test)"
   ]
  },
  {
   "cell_type": "code",
   "execution_count": 92,
   "metadata": {},
   "outputs": [
    {
     "data": {
      "text/plain": [
       "<AxesSubplot:ylabel='count'>"
      ]
     },
     "execution_count": 92,
     "metadata": {},
     "output_type": "execute_result"
    },
    {
     "data": {
      "image/png": "[encoded data removed]",
      "text/plain": [
       "<Figure size 432x288 with 1 Axes>"
      ]
     },
     "metadata": {
      "needs_background": "light"
     },
     "output_type": "display_data"
    }
   ],
   "source": [
    "sns.countplot(x=y_train)"
   ]
  },
  {
   "cell_type": "markdown",
   "metadata": {},
   "source": [
    "If similar counts for each digit, no need to downsample or upweigh."
   ]
  },
  {
   "cell_type": "markdown",
   "metadata": {},
   "source": [
    "## Check for NaN Values"
   ]
  },
  {
   "cell_type": "code",
   "execution_count": 93,
   "metadata": {
    "collapsed": true
   },
   "outputs": [
    {
     "name": "stdout",
     "output_type": "stream",
     "text": [
      "False\n",
      "False\n"
     ]
    }
   ],
   "source": [
    "print(np.isnan(x_train).any())\n",
    "print(np.isnan(x_test).any())"
   ]
  },
  {
   "cell_type": "code",
   "execution_count": 94,
   "metadata": {
    "collapsed": true
   },
   "outputs": [
    {
     "name": "stdout",
     "output_type": "stream",
     "text": [
      "(509, 1600, 1)\n",
      "(51, 1600, 1)\n"
     ]
    }
   ],
   "source": [
    "print(x_train.shape)\n",
    "print(x_test.shape)"
   ]
  },
  {
   "cell_type": "code",
   "execution_count": 95,
   "metadata": {
    "collapsed": true
   },
   "outputs": [
    {
     "name": "stdout",
     "output_type": "stream",
     "text": [
      "(509, 1600, 1)\n",
      "(509,)\n"
     ]
    }
   ],
   "source": [
    "input_shape=x_train.shape\n",
    "print(input_shape)\n",
    "output_shape=y_train.shape\n",
    "print(output_shape)"
   ]
  },
  {
   "cell_type": "code",
   "execution_count": 96,
   "metadata": {},
   "outputs": [],
   "source": [
    "x_train = x_train.reshape(-1,1600)\n",
    "x_test = x_test.reshape(-1,1600)"
   ]
  },
  {
   "cell_type": "code",
   "execution_count": 97,
   "metadata": {
    "collapsed": true
   },
   "outputs": [
    {
     "name": "stdout",
     "output_type": "stream",
     "text": [
      "(509, 1600)\n",
      "(509,)\n"
     ]
    }
   ],
   "source": [
    "import autosklearn.classification\n",
    "\n",
    "input_shape=x_train.shape\n",
    "print(input_shape)\n",
    "output_shape=y_train.shape\n",
    "print(output_shape)"
   ]
  },
  {
   "cell_type": "code",
   "execution_count": 98,
   "metadata": {},
   "outputs": [
    {
     "data": {
      "text/plain": [
       "AutoSklearnClassifier(n_jobs=4, per_run_time_limit=30,\n",
       "                      time_left_for_this_task=120)"
      ]
     },
     "execution_count": 98,
     "metadata": {},
     "output_type": "execute_result"
    }
   ],
   "source": [
    "cls = autosklearn.classification.AutoSklearnClassifier(time_left_for_this_task=2*60, per_run_time_limit=30, n_jobs=4)\n",
    "cls.fit(x_train, y_train)"
   ]
  },
  {
   "cell_type": "code",
   "execution_count": 99,
   "metadata": {},
   "outputs": [
    {
     "name": "stdout",
     "output_type": "stream",
     "text": [
      "auto-sklearn results:\n",
      "  Dataset name: a93e10cb-ab6b-11ec-93b4-c8d9d221ed1d\n",
      "  Metric: accuracy\n",
      "  Best validation score: 0.261905\n",
      "  Number of target algorithm runs: 56\n",
      "  Number of successful target algorithm runs: 45\n",
      "  Number of crashed target algorithm runs: 1\n",
      "  Number of target algorithms that exceeded the time limit: 5\n",
      "  Number of target algorithms that exceeded the memory limit: 5\n",
      "\n"
     ]
    }
   ],
   "source": [
    "print(cls.sprint_statistics()) # best validation was about 0.26 for channel index 6"
   ]
  },
  {
   "cell_type": "code",
   "execution_count": 100,
   "metadata": {},
   "outputs": [
    {
     "data": {
      "text/plain": [
       "0.27450980392156865"
      ]
     },
     "execution_count": 100,
     "metadata": {},
     "output_type": "execute_result"
    }
   ],
   "source": [
    "pred = cls.predict(x_test)\n",
    "sum(pred == y_test)/len(y_test)"
   ]
  },
  {
   "cell_type": "code",
   "execution_count": 101,
   "metadata": {
    "collapsed": true
   },
   "outputs": [
    {
     "name": "stdout",
     "output_type": "stream",
     "text": [
      "{56: {'model_id': 56, 'rank': 1, 'cost': 0.7380952380952381, 'ensemble_weight': 0.020000000000000004, 'data_preprocessor': <autosklearn.pipeline.components.data_preprocessing.DataPreprocessorChoice object at 0x7f509eabc970>, 'balancing': Balancing(random_state=1, strategy='weighting'), 'feature_preprocessor': <autosklearn.pipeline.components.feature_preprocessing.FeaturePreprocessorChoice object at 0x7f507ba08a00>, 'classifier': <autosklearn.pipeline.components.classification.ClassifierChoice object at 0x7f507bc2c160>, 'sklearn_classifier': MLPClassifier(alpha=0.00010000000000000026, beta_1=0.999, beta_2=0.9,\n",
      "              early_stopping=True, hidden_layer_sizes=(33, 33, 33),\n",
      "              learning_rate_init=0.0011616931802204656, max_iter=32,\n",
      "              n_iter_no_change=32, random_state=1, verbose=0, warm_start=True)}, 4: {'model_id': 4, 'rank': 2, 'cost': 0.7440476190476191, 'ensemble_weight': 0.020000000000000004, 'data_preprocessor': <autosklearn.pipeline.components.data_preprocessing.DataPreprocessorChoice object at 0x7f507b3fb0d0>, 'balancing': Balancing(random_state=1, strategy='weighting'), 'feature_preprocessor': <autosklearn.pipeline.components.feature_preprocessing.FeaturePreprocessorChoice object at 0x7f507b81c610>, 'classifier': <autosklearn.pipeline.components.classification.ClassifierChoice object at 0x7f50b3501bb0>, 'sklearn_classifier': MLPClassifier(activation='tanh', alpha=0.00021148999718383549, beta_1=0.999,\n",
      "              beta_2=0.9, hidden_layer_sizes=(113, 113, 113),\n",
      "              learning_rate_init=0.0007452270241186694, max_iter=128,\n",
      "              n_iter_no_change=32, random_state=1, validation_fraction=0.0,\n",
      "              verbose=0, warm_start=True)}, 24: {'model_id': 24, 'rank': 3, 'cost': 0.7440476190476191, 'ensemble_weight': 0.020000000000000004, 'data_preprocessor': <autosklearn.pipeline.components.data_preprocessing.DataPreprocessorChoice object at 0x7f507b3fb1f0>, 'balancing': Balancing(random_state=1, strategy='weighting'), 'feature_preprocessor': <autosklearn.pipeline.components.feature_preprocessing.FeaturePreprocessorChoice object at 0x7f508237be50>, 'classifier': <autosklearn.pipeline.components.classification.ClassifierChoice object at 0x7f5082311430>, 'sklearn_classifier': SVC(C=21.59109048521139, cache_size=1951.7760416666667, class_weight='balanced',\n",
      "    gamma=5.060493057005212, max_iter=-1.0, random_state=1, shrinking=False,\n",
      "    tol=0.00012027336497045934)}, 2: {'model_id': 2, 'rank': 4, 'cost': 0.7619047619047619, 'ensemble_weight': 0.020000000000000004, 'data_preprocessor': <autosklearn.pipeline.components.data_preprocessing.DataPreprocessorChoice object at 0x7f50a726dac0>, 'balancing': Balancing(random_state=1), 'feature_preprocessor': <autosklearn.pipeline.components.feature_preprocessing.FeaturePreprocessorChoice object at 0x7f507b4f6c40>, 'classifier': <autosklearn.pipeline.components.classification.ClassifierChoice object at 0x7f507a3cb550>, 'sklearn_classifier': RandomForestClassifier(max_features=40, n_estimators=512, n_jobs=1,\n",
      "                       random_state=1, warm_start=True)}, 28: {'model_id': 28, 'rank': 5, 'cost': 0.7619047619047619, 'ensemble_weight': 0.020000000000000004, 'data_preprocessor': <autosklearn.pipeline.components.data_preprocessing.DataPreprocessorChoice object at 0x7f507b2661c0>, 'balancing': Balancing(random_state=1, strategy='weighting'), 'feature_preprocessor': <autosklearn.pipeline.components.feature_preprocessing.FeaturePreprocessorChoice object at 0x7f507ba712b0>, 'classifier': <autosklearn.pipeline.components.classification.ClassifierChoice object at 0x7f507b93f340>, 'sklearn_classifier': MLPClassifier(activation='tanh', alpha=0.019526876746409568, beta_1=0.999,\n",
      "              beta_2=0.9, early_stopping=True, hidden_layer_sizes=(43, 43),\n",
      "              learning_rate_init=0.0020514165243933464, max_iter=32,\n",
      "              n_iter_no_change=32, random_state=1, verbose=0, warm_start=True)}, 37: {'model_id': 37, 'rank': 6, 'cost': 0.7738095238095238, 'ensemble_weight': 0.060000000000000005, 'data_preprocessor': <autosklearn.pipeline.components.data_preprocessing.DataPreprocessorChoice object at 0x7f507ba089a0>, 'balancing': Balancing(random_state=1), 'feature_preprocessor': <autosklearn.pipeline.components.feature_preprocessing.FeaturePreprocessorChoice object at 0x7f507bb02040>, 'classifier': <autosklearn.pipeline.components.classification.ClassifierChoice object at 0x7f507ba628e0>, 'sklearn_classifier': MLPClassifier(activation='tanh', alpha=0.004514387000367181, beta_1=0.999,\n",
      "              beta_2=0.9, early_stopping=True, hidden_layer_sizes=(46, 46, 46),\n",
      "              learning_rate_init=0.0020871728809967608, max_iter=32,\n",
      "              n_iter_no_change=32, random_state=1, verbose=0, warm_start=True)}, 11: {'model_id': 11, 'rank': 7, 'cost': 0.7797619047619048, 'ensemble_weight': 0.04000000000000001, 'data_preprocessor': <autosklearn.pipeline.components.data_preprocessing.DataPreprocessorChoice object at 0x7f507acf3d90>, 'balancing': Balancing(random_state=1), 'feature_preprocessor': <autosklearn.pipeline.components.feature_preprocessing.FeaturePreprocessorChoice object at 0x7f507bc222b0>, 'classifier': <autosklearn.pipeline.components.classification.ClassifierChoice object at 0x7f507a47e220>, 'sklearn_classifier': RandomForestClassifier(max_features=42, min_samples_leaf=8,\n",
      "                       min_samples_split=20, n_estimators=512, n_jobs=1,\n",
      "                       random_state=1, warm_start=True)}, 45: {'model_id': 45, 'rank': 8, 'cost': 0.7797619047619048, 'ensemble_weight': 0.04000000000000001, 'data_preprocessor': <autosklearn.pipeline.components.data_preprocessing.DataPreprocessorChoice object at 0x7f507b8e7c70>, 'balancing': Balancing(random_state=1, strategy='weighting'), 'feature_preprocessor': <autosklearn.pipeline.components.feature_preprocessing.FeaturePreprocessorChoice object at 0x7f5079d54910>, 'classifier': <autosklearn.pipeline.components.classification.ClassifierChoice object at 0x7f507b8fb430>, 'sklearn_classifier': DecisionTreeClassifier(class_weight='balanced', max_depth=714,\n",
      "                       min_samples_leaf=20, min_samples_split=7,\n",
      "                       random_state=1)}, 49: {'model_id': 49, 'rank': 9, 'cost': 0.7797619047619048, 'ensemble_weight': 0.10000000000000002, 'data_preprocessor': <autosklearn.pipeline.components.data_preprocessing.DataPreprocessorChoice object at 0x7f507b1aca90>, 'balancing': Balancing(random_state=1, strategy='weighting'), 'feature_preprocessor': <autosklearn.pipeline.components.feature_preprocessing.FeaturePreprocessorChoice object at 0x7f507b3dd370>, 'classifier': <autosklearn.pipeline.components.classification.ClassifierChoice object at 0x7f507b51f610>, 'sklearn_classifier': LinearSVC(C=0.40942033411784234, class_weight='balanced', dual=False,\n",
      "          intercept_scaling=1.0, random_state=1, tol=0.0863558420641133)}, 26: {'model_id': 26, 'rank': 10, 'cost': 0.7857142857142857, 'ensemble_weight': 0.020000000000000004, 'data_preprocessor': <autosklearn.pipeline.components.data_preprocessing.DataPreprocessorChoice object at 0x7f507b8f9910>, 'balancing': Balancing(random_state=1), 'feature_preprocessor': <autosklearn.pipeline.components.feature_preprocessing.FeaturePreprocessorChoice object at 0x7f507bc3bd00>, 'classifier': <autosklearn.pipeline.components.classification.ClassifierChoice object at 0x7f507bc3be50>, 'sklearn_classifier': SVC(C=1803.5581329545355, cache_size=1948.078125, coef0=0.6141138805973136,\n",
      "    degree=2, gamma=7.991791699871623, kernel='poly', max_iter=-1.0,\n",
      "    random_state=1, tol=0.04161403886920211)}, 44: {'model_id': 44, 'rank': 11, 'cost': 0.7857142857142857, 'ensemble_weight': 0.30000000000000004, 'data_preprocessor': <autosklearn.pipeline.components.data_preprocessing.DataPreprocessorChoice object at 0x7f507b1f6fa0>, 'balancing': Balancing(random_state=1), 'feature_preprocessor': <autosklearn.pipeline.components.feature_preprocessing.FeaturePreprocessorChoice object at 0x7f507b7b7e80>, 'classifier': <autosklearn.pipeline.components.classification.ClassifierChoice object at 0x7f507b4224c0>, 'sklearn_classifier': ExtraTreesClassifier(criterion='entropy', max_features=2, min_samples_leaf=12,\n",
      "                     min_samples_split=7, n_estimators=512, n_jobs=1,\n",
      "                     random_state=1, warm_start=True)}, 51: {'model_id': 51, 'rank': 12, 'cost': 0.7857142857142857, 'ensemble_weight': 0.020000000000000004, 'data_preprocessor': <autosklearn.pipeline.components.data_preprocessing.DataPreprocessorChoice object at 0x7f507b8fbe20>, 'balancing': Balancing(random_state=1, strategy='weighting'), 'feature_preprocessor': <autosklearn.pipeline.components.feature_preprocessing.FeaturePreprocessorChoice object at 0x7f507b461d00>, 'classifier': <autosklearn.pipeline.components.classification.ClassifierChoice object at 0x7f507b461430>, 'sklearn_classifier': MLPClassifier(activation='tanh', alpha=1.0755983915579373e-05, beta_1=0.999,\n",
      "              beta_2=0.9, hidden_layer_sizes=(67,),\n",
      "              learning_rate_init=0.15750036194352063, max_iter=64,\n",
      "              n_iter_no_change=32, random_state=1, validation_fraction=0.0,\n",
      "              verbose=0, warm_start=True)}, 14: {'model_id': 14, 'rank': 13, 'cost': 0.7916666666666666, 'ensemble_weight': 0.020000000000000004, 'data_preprocessor': <autosklearn.pipeline.components.data_preprocessing.DataPreprocessorChoice object at 0x7f507a414190>, 'balancing': Balancing(random_state=1), 'feature_preprocessor': <autosklearn.pipeline.components.feature_preprocessing.FeaturePreprocessorChoice object at 0x7f507a3e5b80>, 'classifier': <autosklearn.pipeline.components.classification.ClassifierChoice object at 0x7f507a3e5c10>, 'sklearn_classifier': HistGradientBoostingClassifier(early_stopping=True,\n",
      "                               l2_regularization=1.7049772538367706e-08,\n",
      "                               learning_rate=0.0825755415435688, max_iter=64,\n",
      "                               max_leaf_nodes=51, min_samples_leaf=121,\n",
      "                               random_state=1,\n",
      "                               validation_fraction=0.15078023719798528,\n",
      "                               warm_start=True)}, 39: {'model_id': 39, 'rank': 14, 'cost': 0.7916666666666666, 'ensemble_weight': 0.020000000000000004, 'data_preprocessor': <autosklearn.pipeline.components.data_preprocessing.DataPreprocessorChoice object at 0x7f507ba43760>, 'balancing': Balancing(random_state=1), 'feature_preprocessor': <autosklearn.pipeline.components.feature_preprocessing.FeaturePreprocessorChoice object at 0x7f507a1bd1f0>, 'classifier': <autosklearn.pipeline.components.classification.ClassifierChoice object at 0x7f507b994f10>, 'sklearn_classifier': LinearDiscriminantAnalysis(shrinkage='auto', solver='lsqr',\n",
      "                           tol=0.0013893080163469352)}, 52: {'model_id': 52, 'rank': 15, 'cost': 0.7976190476190477, 'ensemble_weight': 0.020000000000000004, 'data_preprocessor': <autosklearn.pipeline.components.data_preprocessing.DataPreprocessorChoice object at 0x7f507b8ed7c0>, 'balancing': Balancing(random_state=1, strategy='weighting'), 'feature_preprocessor': <autosklearn.pipeline.components.feature_preprocessing.FeaturePreprocessorChoice object at 0x7f5079d40970>, 'classifier': <autosklearn.pipeline.components.classification.ClassifierChoice object at 0x7f507b994730>, 'sklearn_classifier': ExtraTreesClassifier(bootstrap=True, criterion='entropy', max_features=11,\n",
      "                     min_samples_leaf=13, min_samples_split=7, n_estimators=512,\n",
      "                     n_jobs=1, random_state=1, warm_start=True)}, 31: {'model_id': 31, 'rank': 16, 'cost': 0.8035714285714286, 'ensemble_weight': 0.04000000000000001, 'data_preprocessor': <autosklearn.pipeline.components.data_preprocessing.DataPreprocessorChoice object at 0x7f507b1eaac0>, 'balancing': Balancing(random_state=1, strategy='weighting'), 'feature_preprocessor': <autosklearn.pipeline.components.feature_preprocessing.FeaturePreprocessorChoice object at 0x7f507a10ffd0>, 'classifier': <autosklearn.pipeline.components.classification.ClassifierChoice object at 0x7f507a10fcd0>, 'sklearn_classifier': ExtraTreesClassifier(criterion='entropy', max_features=751, min_samples_leaf=18,\n",
      "                     min_samples_split=6, n_estimators=512, n_jobs=1,\n",
      "                     random_state=1, warm_start=True)}, 43: {'model_id': 43, 'rank': 17, 'cost': 0.8035714285714286, 'ensemble_weight': 0.04000000000000001, 'data_preprocessor': <autosklearn.pipeline.components.data_preprocessing.DataPreprocessorChoice object at 0x7f5079d40040>, 'balancing': Balancing(random_state=1, strategy='weighting'), 'feature_preprocessor': <autosklearn.pipeline.components.feature_preprocessing.FeaturePreprocessorChoice object at 0x7f50788d44f0>, 'classifier': <autosklearn.pipeline.components.classification.ClassifierChoice object at 0x7f50788a2190>, 'sklearn_classifier': LinearDiscriminantAnalysis(tol=0.00013777038520173415)}, 55: {'model_id': 55, 'rank': 18, 'cost': 0.8035714285714286, 'ensemble_weight': 0.020000000000000004, 'data_preprocessor': <autosklearn.pipeline.components.data_preprocessing.DataPreprocessorChoice object at 0x7f507a10f580>, 'balancing': Balancing(random_state=1), 'feature_preprocessor': <autosklearn.pipeline.components.feature_preprocessing.FeaturePreprocessorChoice object at 0x7f50787f90d0>, 'classifier': <autosklearn.pipeline.components.classification.ClassifierChoice object at 0x7f50787f9610>, 'sklearn_classifier': ExtraTreesClassifier(max_features=4, min_samples_leaf=20, min_samples_split=10,\n",
      "                     n_estimators=512, n_jobs=1, random_state=1,\n",
      "                     warm_start=True)}, 8: {'model_id': 8, 'rank': 19, 'cost': 0.8095238095238095, 'ensemble_weight': 0.020000000000000004, 'data_preprocessor': <autosklearn.pipeline.components.data_preprocessing.DataPreprocessorChoice object at 0x7f50788d4f70>, 'balancing': Balancing(random_state=1), 'feature_preprocessor': <autosklearn.pipeline.components.feature_preprocessing.FeaturePreprocessorChoice object at 0x7f50786983d0>, 'classifier': <autosklearn.pipeline.components.classification.ClassifierChoice object at 0x7f50786986d0>, 'sklearn_classifier': RandomForestClassifier(bootstrap=False, max_features=134, min_samples_leaf=18,\n",
      "                       min_samples_split=3, n_estimators=512, n_jobs=1,\n",
      "                       random_state=1, warm_start=True)}, 22: {'model_id': 22, 'rank': 20, 'cost': 0.8154761904761905, 'ensemble_weight': 0.020000000000000004, 'data_preprocessor': <autosklearn.pipeline.components.data_preprocessing.DataPreprocessorChoice object at 0x7f507888d8b0>, 'balancing': Balancing(random_state=1, strategy='weighting'), 'feature_preprocessor': <autosklearn.pipeline.components.feature_preprocessing.FeaturePreprocessorChoice object at 0x7f50784316d0>, 'classifier': <autosklearn.pipeline.components.classification.ClassifierChoice object at 0x7f5078431a60>, 'sklearn_classifier': SVC(C=566.6840052213279, cache_size=1942.9973958333333, class_weight='balanced',\n",
      "    gamma=0.0019647850141763412, max_iter=-1.0, random_state=1,\n",
      "    tol=0.0012292213570589683)}, 25: {'model_id': 25, 'rank': 21, 'cost': 0.8154761904761905, 'ensemble_weight': 0.020000000000000004, 'data_preprocessor': <autosklearn.pipeline.components.data_preprocessing.DataPreprocessorChoice object at 0x7f5078718c10>, 'balancing': Balancing(random_state=1, strategy='weighting'), 'feature_preprocessor': <autosklearn.pipeline.components.feature_preprocessing.FeaturePreprocessorChoice object at 0x7f507837db20>, 'classifier': <autosklearn.pipeline.components.classification.ClassifierChoice object at 0x7f5078397e50>, 'sklearn_classifier': SVC(C=13933.25185174103, cache_size=1948.0338541666667, class_weight='balanced',\n",
      "    coef0=0.012731404413972136, degree=2, gamma=1.1724165915591906,\n",
      "    kernel='poly', max_iter=-1.0, random_state=1, tol=0.005777609493157263)}, 23: {'model_id': 23, 'rank': 22, 'cost': 0.8214285714285714, 'ensemble_weight': 0.08000000000000002, 'data_preprocessor': <autosklearn.pipeline.components.data_preprocessing.DataPreprocessorChoice object at 0x7f507864ebe0>, 'balancing': Balancing(random_state=1), 'feature_preprocessor': <autosklearn.pipeline.components.feature_preprocessing.FeaturePreprocessorChoice object at 0x7f50781f9d90>, 'classifier': <autosklearn.pipeline.components.classification.ClassifierChoice object at 0x7f5078397190>, 'sklearn_classifier': LinearDiscriminantAnalysis(shrinkage='auto', solver='lsqr',\n",
      "                           tol=0.018821286956948503)}, 32: {'model_id': 32, 'rank': 23, 'cost': 0.8214285714285714, 'ensemble_weight': 0.020000000000000004, 'data_preprocessor': <autosklearn.pipeline.components.data_preprocessing.DataPreprocessorChoice object at 0x7f507834e2e0>, 'balancing': Balancing(random_state=1), 'feature_preprocessor': <autosklearn.pipeline.components.feature_preprocessing.FeaturePreprocessorChoice object at 0x7f5078155970>, 'classifier': <autosklearn.pipeline.components.classification.ClassifierChoice object at 0x7f5078107f70>, 'sklearn_classifier': DecisionTreeClassifier(criterion='entropy', max_depth=1, min_samples_leaf=10,\n",
      "                       min_samples_split=14, random_state=1)}}\n"
     ]
    }
   ],
   "source": [
    "ensemble_dict = cls.show_models()\n",
    "print(ensemble_dict)"
   ]
  }
 ],
 "metadata": {
  "kernelspec": {
   "display_name": "Python 3 (ipykernel)",
   "language": "python",
   "name": "python3"
  },
  "language_info": {
   "codemirror_mode": {
    "name": "ipython",
    "version": 3
   },
   "file_extension": ".py",
   "mimetype": "text/x-python",
   "name": "python",
   "nbconvert_exporter": "python",
   "pygments_lexer": "ipython3",
   "version": "3.9.7"
  }
 },
 "nbformat": 4,
 "nbformat_minor": 4
}
